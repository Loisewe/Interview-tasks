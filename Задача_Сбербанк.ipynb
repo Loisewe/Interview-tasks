{
 "cells": [
  {
   "cell_type": "markdown",
   "metadata": {},
   "source": [
    "Решение"
   ]
  },
  {
   "cell_type": "code",
   "execution_count": 48,
   "metadata": {},
   "outputs": [
    {
     "name": "stdout",
     "output_type": "stream",
     "text": [
      "RMSE: 46.619\n"
     ]
    },
    {
     "data": {
      "image/png": "[encoded data removed]",
      "text/plain": [
       "<Figure size 432x288 with 1 Axes>"
      ]
     },
     "metadata": {
      "needs_background": "light"
     },
     "output_type": "display_data"
    }
   ],
   "source": [
    "import pandas as pd\n",
    "from pandas import read_csv\n",
    "from matplotlib import pyplot\n",
    "from statsmodels.tsa.ar_model import AutoReg\n",
    "from sklearn.metrics import mean_squared_error\n",
    "import numpy\n",
    "from math import sqrt\n",
    "FILE='D:\\\\DATA\\\\allBank_balance_101_sector.csv'\n",
    "    \n",
    "    \n",
    "def predict(coef, history):\n",
    "    yhat = coef[0]\n",
    "    for i in range(1, len(coef)):\n",
    "        yhat += coef[i] * history[-i]\n",
    "    return yhat\n",
    "df=pd.read_csv(FILE)\n",
    "df=df[df['sector_id'].isin([1,2,3,4])]\n",
    "df=df[df['bank_group_id']==1]\n",
    "df=df.sort_values(by='report_date', ascending=True)\n",
    "df.set_index('report_date', inplace=True)\n",
    "df.index = pd.to_datetime(df.index)\n",
    "df.sort_index(inplace=True)\n",
    "df=df.drop(['sector_id'], axis=1)\n",
    "df=df.drop(['bank_group_id'], axis=1)\n",
    "df=df.drop(['value_usd'], axis=1)\n",
    "df= df.resample('D').mean()\n",
    "df.dropna(inplace=True)\n",
    "\n",
    "series = df\n",
    "# делим датасеты\n",
    "X=df.values\n",
    "size = int(len(X) * 0.65)\n",
    "train, test = X[0:size], X[size:]\n",
    "\n",
    "model = AutoReg(train, lags=2)\n",
    "model_fit = model.fit()\n",
    "coef = model_fit.params\n",
    "\n",
    "history = [train[i] for i in range(len(train))]\n",
    "predictions = []\n",
    "for t in range(len(test)):\n",
    "    yhat = predict(coef, history)\n",
    "    obs = test[t]\n",
    "    predictions.append(yhat)\n",
    "    history.append(obs)\n",
    "rmse = sqrt(mean_squared_error(test, predictions))\n",
    "print('RMSE: %.3f' % rmse)\n",
    "pyplot.plot(test)\n",
    "pyplot.plot(predictions, color='red')\n",
    "pyplot.show()"
   ]
  },
  {
   "cell_type": "markdown",
   "metadata": {},
   "source": [
    "Неудачные решения"
   ]
  },
  {
   "cell_type": "code",
   "execution_count": null,
   "metadata": {},
   "outputs": [],
   "source": [
    "# import sklearn\n",
    "# import pandas as pd\n",
    "# from math import sqrt\n",
    "# import numpy as np\n",
    "# import catboost\n",
    "# from sklearn import linear_model\n",
    "# import matplotlib as mpl\n",
    "# import matplotlib.pyplot as plt"
   ]
  },
  {
   "cell_type": "code",
   "execution_count": 8,
   "metadata": {},
   "outputs": [],
   "source": [
    "# df=pd.read_csv(\"D:\\\\DATA\\\\allBank_balance_101_sector.csv\")\n",
    "# df=df[df['sector_id'].isin([1,2,3,4])]\n",
    "# df=df[df['bank_group_id']==1]\n",
    "# df=df.sort_values(by='report_date', ascending=True)\n",
    "# # df['date'] = pd.to_datetime(df['report_date'], format=\"%Y-%m-%d\")\n",
    "# # df['date']=df['report_date'].astype('datetime64[D]')\n",
    "# # df['date']=range(len(df))\n",
    "# df.set_index('report_date', inplace=True)\n",
    "# df.index = pd.to_datetime(df.index)\n",
    "# df.sort_index(inplace=True)\n",
    "# df=df.drop(['sector_id'], axis=1)\n",
    "# df=df.drop(['bank_group_id'], axis=1)\n",
    "# df=df.drop(['value_usd'], axis=1)\n",
    "\n",
    "# df= df.resample('D').mean()\n",
    "# df.dropna(inplace=True)\n",
    "# # df=df[['date','value_rub']]\n",
    "# df['date']=range(len(df))\n",
    "\n",
    "# train_data = df[:int(len(df)*0.8)]\n",
    "# test_data=df[int(len(df)*0.8):]\n",
    "\n",
    "# # train_data = train_data.resample('D').mean()\n",
    "# # train_data.dropna(inplace=True)\n",
    "# # train_data['date']=range(len(train_data))\n",
    "\n",
    "# # test_data = test_data.resample('D').mean()\n",
    "# # test_data.dropna(inplace=True)\n",
    "# # test_data['date']=range(len(test_data))\n",
    "\n",
    "# # df1=df[df['sector_id']==1]\n",
    "# # # df1=df1[['value_rub']]\n",
    "\n",
    "# # df2=df[df['sector_id']==2]\n",
    "# # # df2=df2[['value_rub']]\n",
    "\n",
    "# # df3=df[df['sector_id']==3]\n",
    "# # # df3=df3[['value_rub']]\n",
    "\n",
    "# # df4=df[df['sector_id']==4]\n",
    "# # # df4=df4[['value_rub']]\n",
    "\n",
    "# # train_data1x = df1[:int(len(df)*0.7)]\n",
    "# # train_data1x=train_data1x.drop(['value_rub'], axis=1)\n",
    "# # train_data1y = df1[:int(len(df)*0.7)]\n",
    "# # train_data1y=train_data1y['value_rub']\n",
    "# # test_data1x = df1[:int(len(df)*0.7)]\n",
    "# # test_data1x=test_data1x.drop(['value_rub'], axis=1)\n",
    "# # test_data1y = df1[:int(len(df)*0.7)]\n",
    "# # test_data1y=test_data1y['value_rub']\n",
    "\n",
    "\n",
    "# # train_data2 = df2[:int(len(df)*0.7)]\n",
    "# # test_data2=df2[int(len(df)*0.7):]\n",
    "\n",
    "# # train_data3 = df3[:int(len(df)*0.7)]\n",
    "# # test_data3=df3[int(len(df)*0.7):]\n",
    "\n",
    "\n",
    "# # train_data4 = df4[:int(len(df)*0.7)]\n",
    "# # test_data4=df4[int(len(df)*0.7):]"
   ]
  },
  {
   "cell_type": "code",
   "execution_count": 43,
   "metadata": {},
   "outputs": [],
   "source": [
    "# eval_dataset = catboost.Pool(test_data.drop(['value_rub'], axis=1),\n",
    "#                     test_data['value_rub'])\n",
    "# model=catboost.CatBoostRegressor(iterations=5000, depth=8, learning_rate=0.003, loss_function='RMSE')\n",
    "# model.fit(train_data.drop(['value_rub'], axis=1), train_data['value_rub'],eval_set=eval_dataset,plot=\"True\")\n",
    "# preds = model.predict(test_data.drop(['value_rub'], axis=1))\n"
   ]
  },
  {
   "cell_type": "code",
   "execution_count": 44,
   "metadata": {},
   "outputs": [],
   "source": [
    "# df_out=pd.DataFrame()\n",
    "# df_out['real']=test_data['value_rub'].values\n",
    "# df_out['predict']=preds\n",
    "\n",
    "# df\n",
    "# # df_out\n"
   ]
  },
  {
   "cell_type": "code",
   "execution_count": null,
   "metadata": {},
   "outputs": [],
   "source": []
  },
  {
   "cell_type": "code",
   "execution_count": null,
   "metadata": {},
   "outputs": [],
   "source": []
  },
  {
   "cell_type": "code",
   "execution_count": 45,
   "metadata": {
    "scrolled": false
   },
   "outputs": [],
   "source": [
    "# from sklearn import linear_model\n",
    "# import matplotlib as mpl\n",
    "# import matplotlib.pyplot as plt\n",
    "\n",
    "# plt.ion()\n",
    "# # train_data_=train_data.drop(['value_usd'], axis=1)\n",
    "# ax = train_data.drop(['date'], axis=1).plot();\n",
    "# ax.set_ylabel('Data1');\n",
    "# # ax = test_data.plot();\n",
    "# ax = df_out.plot();\n",
    "# # ax.set_ylabel('Data2');\n",
    "# # ax = train_data3.plot();\n",
    "# # ax.set_ylabel('Data3');\n",
    "# # ax = train_data4.plot();\n",
    "# # ax.set_ylabel('Data4');\n"
   ]
  },
  {
   "cell_type": "code",
   "execution_count": null,
   "metadata": {},
   "outputs": [],
   "source": []
  },
  {
   "cell_type": "code",
   "execution_count": null,
   "metadata": {},
   "outputs": [],
   "source": []
  },
  {
   "cell_type": "code",
   "execution_count": null,
   "metadata": {},
   "outputs": [],
   "source": []
  },
  {
   "cell_type": "code",
   "execution_count": 46,
   "metadata": {},
   "outputs": [],
   "source": [
    "# from sklearn.metrics import mean_squared_log_error\n",
    "# from sklearn.ensemble import RandomForestRegressor\n",
    "# # from lightgbm import LGBMRegressor\n",
    "# def rmse(ytrue, ypred):\n",
    "#     return np.sqrt(mean_squared_log_error(ytrue, ypred))\n",
    "\n",
    "# mdl = RandomForestRegressor(n_estimators=1000, n_jobs=-1, random_state=0)\n",
    "# mdl.fit(train_data1x, train_data1y)\n",
    "# p = mdl.predict(test_data1x)\n",
    "# mean_error = []\n",
    "# error = rmse(test_data1y, p)\n",
    "# mean_error.append(error)\n",
    "# print('Mean Error = %.5f' % np.mean(mean_error))"
   ]
  },
  {
   "cell_type": "code",
   "execution_count": null,
   "metadata": {},
   "outputs": [],
   "source": []
  },
  {
   "cell_type": "code",
   "execution_count": 47,
   "metadata": {},
   "outputs": [],
   "source": [
    "# import pandas as pd\n",
    "# from pandas import read_csv\n",
    "# from matplotlib import pyplot\n",
    "# from statsmodels.tsa.ar_model import AutoReg\n",
    "# from sklearn.metrics import mean_squared_error\n",
    "# import numpy\n",
    "# from math import sqrt\n",
    " \n",
    "# def predict(coef, history):\n",
    "#     yhat = coef[0]\n",
    "#     for i in range(1, len(coef)):\n",
    "#         yhat += coef[i] * history[-i]\n",
    "#     return yhat\n",
    "# df=pd.read_csv(\"D:\\\\DATA\\\\allBank_balance_101_sector.csv\")\n",
    "# df=df[df['sector_id'].isin([1,2,3,4])]\n",
    "# df=df[df['bank_group_id']==1]\n",
    "# df=df.sort_values(by='report_date', ascending=True)\n",
    "# df.set_index('report_date', inplace=True)\n",
    "# df.index = pd.to_datetime(df.index)\n",
    "# df.sort_index(inplace=True)\n",
    "# df=df.drop(['sector_id'], axis=1)\n",
    "# df=df.drop(['bank_group_id'], axis=1)\n",
    "# df=df.drop(['value_usd'], axis=1)\n",
    "# df= df.resample('D').mean()\n",
    "# df.dropna(inplace=True)\n",
    "\n",
    "# series = df\n",
    "# # делим датасеты\n",
    "# X=df.values\n",
    "# size = int(len(X) * 0.65)\n",
    "# train, test = X[0:size], X[size:]\n",
    "\n",
    "# model = AutoReg(train, lags=2)\n",
    "# model_fit = model.fit()\n",
    "# coef = model_fit.params\n",
    "\n",
    "# history = [train[i] for i in range(len(train))]\n",
    "# predictions = []\n",
    "# for t in range(len(test)):\n",
    "#     yhat = predict(coef, history)\n",
    "#     obs = test[t]\n",
    "#     predictions.append(yhat)\n",
    "#     history.append(obs)\n",
    "# rmse = sqrt(mean_squared_error(test, predictions))\n",
    "# print('RMSE: %.3f' % rmse)\n",
    "# pyplot.plot(test)\n",
    "# pyplot.plot(predictions, color='red')\n",
    "# pyplot.show()"
   ]
  },
  {
   "cell_type": "code",
   "execution_count": null,
   "metadata": {},
   "outputs": [],
   "source": []
  },
  {
   "cell_type": "code",
   "execution_count": null,
   "metadata": {},
   "outputs": [],
   "source": []
  }
 ],
 "metadata": {
  "kernelspec": {
   "display_name": "Python 3",
   "language": "python",
   "name": "python3"
  },
  "language_info": {
   "codemirror_mode": {
    "name": "ipython",
    "version": 3
   },
   "file_extension": ".py",
   "mimetype": "text/x-python",
   "name": "python",
   "nbconvert_exporter": "python",
   "pygments_lexer": "ipython3",
   "version": "3.7.3"
  }
 },
 "nbformat": 4,
 "nbformat_minor": 2
}
